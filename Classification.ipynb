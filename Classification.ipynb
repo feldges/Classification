{
 "cells": [
  {
   "cell_type": "markdown",
   "id": "1269b882",
   "metadata": {},
   "source": [
    "# Text Classification with TF-IDF, LSTM, BERT: a comparison of performance"
   ]
  },
  {
   "cell_type": "markdown",
   "id": "fa9d3081",
   "metadata": {},
   "source": [
    "While looking for information to solve a text classification problem, I could find various descriptions on how to do it; but I was missing a comparison with measurable metrics, showing the pros and cons of various methods."
   ]
  },
  {
   "cell_type": "markdown",
   "id": "b0a86784",
   "metadata": {},
   "source": [
    "## Introduction"
   ]
  },
  {
   "cell_type": "markdown",
   "id": "e8a307a6",
   "metadata": {},
   "source": [
    "The objective of this article is to provide quantitative comparison of the algorithms, provide the Python code to make it, and basic explanations on what is being done.\n",
    "\n",
    "The algorithms will be analysed using two metrics: accuracy and running time (for learning).\n",
    "\n",
    "We will go over three text classification approaches, increasing in complexity and following the historical developments. First, we will use a \"traditional\" machine learning method, applying a linear model on the TF-IDF approach. Then we will go deep learning. We will first use a Recurrent Neural Network (RNN) method and encode words using the algorithm Word2Vec. This is a way of using pre-learned information. Finally, we will use the model BERT (or a simplified version of it, distil-BERT) and fine-tune it on our specific classification task. This approach allows the use of a pre-learned algorithm, which encodes not only words but entire sentences.\n",
    "\n",
    "Note that we will use a very basic accuracy calculation. More sophisticated approaches (f-score, macro-average) would make more sense. But the goal of this article is to better understand classification models, not accuracy scores."
   ]
  },
  {
   "cell_type": "markdown",
   "id": "0a3fd5b0",
   "metadata": {},
   "source": [
    "Before starting, we need to get the libraries:"
   ]
  },
  {
   "cell_type": "code",
   "execution_count": 1,
   "id": "706ab803",
   "metadata": {},
   "outputs": [
    {
     "name": "stdout",
     "output_type": "stream",
     "text": [
      "Pandas version: 1.2.4\n",
      "Numpy version: 1.19.5\n",
      "PyPlot version: 3.3.4\n",
      "Scikit Learn version: 0.24.1\n",
      "Tensorflow version: 2.5.0\n",
      "Transformers version: 4.15.0\n",
      "Regex version: 2.2.1\n",
      "NLTK version: 3.6.1\n",
      "Gensim version: 4.1.2\n"
     ]
    }
   ],
   "source": [
    "# Data processing\n",
    "import pandas as pd\n",
    "import numpy as np\n",
    "\n",
    "# Machine Learning\n",
    "import sklearn\n",
    "from sklearn.model_selection import train_test_split\n",
    "from sklearn.feature_extraction.text import CountVectorizer, TfidfVectorizer\n",
    "from sklearn.linear_model import LogisticRegression, SGDClassifier\n",
    "from sklearn.pipeline import Pipeline\n",
    "from sklearn.metrics import accuracy_score\n",
    "from sklearn.preprocessing import LabelBinarizer\n",
    "\n",
    "import tensorflow as tf\n",
    "from tensorflow.keras import preprocessing as kprocessing\n",
    "from tensorflow.keras import models, layers, optimizers\n",
    "\n",
    "import transformers\n",
    "\n",
    "# Visualization\n",
    "import matplotlib\n",
    "from matplotlib import pyplot as plt\n",
    "\n",
    "# Text processing\n",
    "import re\n",
    "import nltk\n",
    "import gensim\n",
    "import gensim.downloader as api\n",
    "\n",
    "# Various\n",
    "from datetime import datetime\n",
    "\n",
    "# Showing the versions used\n",
    "print('Pandas version: {}'.format(pd.__version__))\n",
    "print('Numpy version: {}'.format(np.__version__))\n",
    "print('PyPlot version: {}'.format(matplotlib.__version__))\n",
    "print('Scikit Learn version: {}'.format(sklearn.__version__))\n",
    "print('Tensorflow version: {}'.format(tf.__version__))\n",
    "print('Transformers version: {}'.format(transformers.__version__))\n",
    "print('Regex version: {}'.format(re.__version__))\n",
    "print('NLTK version: {}'.format(nltk.__version__))\n",
    "print('Gensim version: {}'.format(gensim.__version__))"
   ]
  },
  {
   "cell_type": "markdown",
   "id": "dcbc0926",
   "metadata": {},
   "source": [
    "## Get and Process the Data"
   ]
  },
  {
   "cell_type": "markdown",
   "id": "bc578ada",
   "metadata": {},
   "source": [
    "In this article we will consider two datasets (long texts and short texts):\n",
    "- BBC news, classified by topic: https://www.kaggle.com/sainijagjit/bbc-dataset\n",
    "- Tweets related to Corona, classified by sentiment (5 levels): https://www.kaggle.com/datatattle/covid-19-nlp-text-classification\n",
    "\n",
    "We will use the BBC news throughout this article, but the same applies to the tweets dataset. The detailed analysis below relates to the BBC news use case. A detailed analysis of the Corona corpus might lead to different conclusions, given its complexity is higher and the dataset is larger.\n",
    "\n",
    "Note that the BBC news corpus contains around 2k entries, and the Corona Tweets contain around 40k. The first dataset is therefore much faster and can be run on a standard computer, while the second dataset cannot."
   ]
  },
  {
   "cell_type": "code",
   "execution_count": 2,
   "id": "8b04106d",
   "metadata": {},
   "outputs": [],
   "source": [
    "# Select the dataset for the analysis\n",
    "\n",
    "dataset = 'bbc-text' # select 'bbc-text' or 'corona'"
   ]
  },
  {
   "cell_type": "code",
   "execution_count": 3,
   "id": "88897870",
   "metadata": {},
   "outputs": [
    {
     "data": {
      "text/html": [
       "<div>\n",
       "<style scoped>\n",
       "    .dataframe tbody tr th:only-of-type {\n",
       "        vertical-align: middle;\n",
       "    }\n",
       "\n",
       "    .dataframe tbody tr th {\n",
       "        vertical-align: top;\n",
       "    }\n",
       "\n",
       "    .dataframe thead th {\n",
       "        text-align: right;\n",
       "    }\n",
       "</style>\n",
       "<table border=\"1\" class=\"dataframe\">\n",
       "  <thead>\n",
       "    <tr style=\"text-align: right;\">\n",
       "      <th></th>\n",
       "      <th>category</th>\n",
       "      <th>text</th>\n",
       "    </tr>\n",
       "  </thead>\n",
       "  <tbody>\n",
       "    <tr>\n",
       "      <th>0</th>\n",
       "      <td>tech</td>\n",
       "      <td>tv future in the hands of viewers with home th...</td>\n",
       "    </tr>\n",
       "    <tr>\n",
       "      <th>1</th>\n",
       "      <td>business</td>\n",
       "      <td>worldcom boss  left books alone  former worldc...</td>\n",
       "    </tr>\n",
       "    <tr>\n",
       "      <th>2</th>\n",
       "      <td>sport</td>\n",
       "      <td>tigers wary of farrell  gamble  leicester say ...</td>\n",
       "    </tr>\n",
       "    <tr>\n",
       "      <th>3</th>\n",
       "      <td>sport</td>\n",
       "      <td>yeading face newcastle in fa cup premiership s...</td>\n",
       "    </tr>\n",
       "    <tr>\n",
       "      <th>4</th>\n",
       "      <td>entertainment</td>\n",
       "      <td>ocean s twelve raids box office ocean s twelve...</td>\n",
       "    </tr>\n",
       "  </tbody>\n",
       "</table>\n",
       "</div>"
      ],
      "text/plain": [
       "        category                                               text\n",
       "0           tech  tv future in the hands of viewers with home th...\n",
       "1       business  worldcom boss  left books alone  former worldc...\n",
       "2          sport  tigers wary of farrell  gamble  leicester say ...\n",
       "3          sport  yeading face newcastle in fa cup premiership s...\n",
       "4  entertainment  ocean s twelve raids box office ocean s twelve..."
      ]
     },
     "execution_count": 3,
     "metadata": {},
     "output_type": "execute_result"
    }
   ],
   "source": [
    "if dataset=='bbc-text':\n",
    "    datapath = \"data/bbc-text.csv\"\n",
    "if dataset=='corona':\n",
    "    datapath=\"data/Corona_NLP_train.csv\"\n",
    "\n",
    "df = pd.read_csv(datapath)\n",
    "\n",
    "if dataset=='corona':\n",
    "    df.rename(columns={\"Sentiment\": \"category\", \"OriginalTweet\": \"text\"}, inplace=True)\n",
    "\n",
    "df = df[[\"category\", \"text\"]]\n",
    "\n",
    "# Show the data\n",
    "df.head()"
   ]
  },
  {
   "cell_type": "markdown",
   "id": "84910f11",
   "metadata": {},
   "source": [
    "### Analyze Data"
   ]
  },
  {
   "cell_type": "markdown",
   "id": "169be0dc",
   "metadata": {},
   "source": [
    "Let's look at what we get."
   ]
  },
  {
   "cell_type": "code",
   "execution_count": 4,
   "id": "4da7995b",
   "metadata": {},
   "outputs": [
    {
     "name": "stdout",
     "output_type": "stream",
     "text": [
      "Total number of news: 2225\n",
      "----------------------------------------\n",
      "Split by category:\n",
      "sport            511\n",
      "business         510\n",
      "politics         417\n",
      "tech             401\n",
      "entertainment    386\n",
      "Name: category, dtype: int64\n",
      "----------------------------------------\n",
      "Number of categories: 5\n"
     ]
    }
   ],
   "source": [
    "print('Total number of news: {}'.format(len(df)))\n",
    "print(40*'-')\n",
    "print('Split by category:')\n",
    "print(df[\"category\"].value_counts())\n",
    "print(40*'-')\n",
    "nr_categories = len(df[\"category\"].unique())\n",
    "print(\"Number of categories: {n}\".format(n=nr_categories))"
   ]
  },
  {
   "cell_type": "markdown",
   "id": "d8c7c87a",
   "metadata": {},
   "source": [
    "We get a total number of entries of 2'225, which are relatively evenly split across five categories.\n",
    "\n",
    "In case the split across categories is imbalanced, there are techniques to \"correct\" this by over-weighting the data with an under-represented category. For this, you can refer to: https://scikit-learn.org/stable/modules/generated/sklearn.utils.class_weight.compute_class_weight.html"
   ]
  },
  {
   "cell_type": "markdown",
   "id": "9e66c229",
   "metadata": {},
   "source": [
    "Finally, let's look at a specific example to get a concrete impression:"
   ]
  },
  {
   "cell_type": "code",
   "execution_count": 5,
   "id": "46770c9e",
   "metadata": {},
   "outputs": [
    {
     "name": "stdout",
     "output_type": "stream",
     "text": [
      "Category:  entertainment\n",
      "----------------------------------------------------------------------------------------------------\n",
      "Text:\n",
      "housewives lift channel 4 ratings the debut of us television hit desperate housewives has helped lift channel 4 s january audience share by 12% compared to last year.  other successes such as celebrity big brother and the simpsons have enabled the broadcaster to surpass bbc two for the first month since last july. bbc two s share of the audience fell from 11.2% to 9.6% last month in comparison with january 2004. celebrity big brother attracted fewer viewers than its 2002 series.  comedy drama desperate housewives managed to pull in five million viewers at one point during its run to date  attracting a quarter of the television audience. the two main television channels  bbc1 and itv1  have both seen their monthly audience share decline in a year on year comparison for january  while five s proportion remained the same at a slender 6.3%. digital multi-channel tv is continuing to be the strongest area of growth  with the bbc reporting freeview box ownership of five million  including one million sales in the last portion of 2004. its share of the audience soared by 20% in january 2005 compared with last year  and currently stands at an average of 28.6%.\n"
     ]
    }
   ],
   "source": [
    "# You can adjust n:\n",
    "n=100\n",
    "print('Category: ',df['category'][n])\n",
    "print(100*'-')\n",
    "print('Text:')\n",
    "print(df['text'][n])"
   ]
  },
  {
   "cell_type": "markdown",
   "id": "faccb10d",
   "metadata": {},
   "source": [
    "### Prepare Data"
   ]
  },
  {
   "cell_type": "markdown",
   "id": "e031517b",
   "metadata": {},
   "source": [
    "Some algorithms (RNN and based on BERT) are fed with the original text. But for the TF-IDF algorithm we need to pre-process the data.\n",
    "\n",
    "We pre-process the data with the help of specialized libraries. We introduce a function that will allow to:\n",
    "- convert to lower cases, remove special characters, ...\n",
    "- tokenize (i.e. convert from strings to lists of words)\n",
    "- remove stopwords (i.e. remove common words that bring noise to the system, like 'a', 'the', ...)\n",
    "- stemm (i.e. remove -ing, -ly, ..., like convert 'making' to 'make', so that words with same meaning are identified as being the same)\n",
    "- lemmatize (i.e convert the word into a root word, for example 'feet' becomes 'foot')"
   ]
  },
  {
   "cell_type": "code",
   "execution_count": 6,
   "id": "088678cd",
   "metadata": {},
   "outputs": [],
   "source": [
    "# Reference: Text Classification with NLP: Tf-Idf vs Word2Vec vs BERT from Medium\n",
    "\n",
    "# Use stopwords list from nltk (that is used in the function below)\n",
    "lst_stopwords = nltk.corpus.stopwords.words(\"english\")\n",
    "\n",
    "def utils_preprocess_text(text, flg_stemm=False, flg_lemm=True, lst_stopwords=None):\n",
    "    # Clean (convert to lowercase and remove punctuations and characters and then strip)\n",
    "    # The function is not optimized for speed but split into various steps for pedagogical purpose\n",
    "    text = str(text).lower()\n",
    "    text = text.strip()\n",
    "    text = re.sub(r'[^\\w\\s]', '', text)\n",
    "\n",
    "    # Tokenize (convert from string to list)\n",
    "    lst_text = text.split()\n",
    "    # remove Stopwords\n",
    "    if lst_stopwords is not None:\n",
    "        lst_text = [word for word in lst_text if word not in lst_stopwords]\n",
    "\n",
    "    # Stemming (remove -ing, -ly, ...)\n",
    "    if flg_stemm == True:\n",
    "        ps = nltk.stem.porter.PorterStemmer()\n",
    "        lst_text = [ps.stem(word) for word in lst_text]\n",
    "\n",
    "    # Lemmatisation (convert the word into root word)\n",
    "    if flg_lemm == True:\n",
    "        lem = nltk.stem.wordnet.WordNetLemmatizer()\n",
    "        lst_text = [lem.lemmatize(word) for word in lst_text]\n",
    "\n",
    "    # back to string from list\n",
    "    text = \" \".join(lst_text)\n",
    "    return text"
   ]
  },
  {
   "cell_type": "code",
   "execution_count": 7,
   "id": "5c771308",
   "metadata": {},
   "outputs": [
    {
     "data": {
      "text/html": [
       "<div>\n",
       "<style scoped>\n",
       "    .dataframe tbody tr th:only-of-type {\n",
       "        vertical-align: middle;\n",
       "    }\n",
       "\n",
       "    .dataframe tbody tr th {\n",
       "        vertical-align: top;\n",
       "    }\n",
       "\n",
       "    .dataframe thead th {\n",
       "        text-align: right;\n",
       "    }\n",
       "</style>\n",
       "<table border=\"1\" class=\"dataframe\">\n",
       "  <thead>\n",
       "    <tr style=\"text-align: right;\">\n",
       "      <th></th>\n",
       "      <th>category</th>\n",
       "      <th>text</th>\n",
       "      <th>text_clean</th>\n",
       "    </tr>\n",
       "  </thead>\n",
       "  <tbody>\n",
       "    <tr>\n",
       "      <th>0</th>\n",
       "      <td>tech</td>\n",
       "      <td>tv future in the hands of viewers with home th...</td>\n",
       "      <td>tv future hand viewer home theatre system plas...</td>\n",
       "    </tr>\n",
       "    <tr>\n",
       "      <th>1</th>\n",
       "      <td>business</td>\n",
       "      <td>worldcom boss  left books alone  former worldc...</td>\n",
       "      <td>worldcom bos left book alone former worldcom b...</td>\n",
       "    </tr>\n",
       "    <tr>\n",
       "      <th>2</th>\n",
       "      <td>sport</td>\n",
       "      <td>tigers wary of farrell  gamble  leicester say ...</td>\n",
       "      <td>tiger wary farrell gamble leicester say rushed...</td>\n",
       "    </tr>\n",
       "    <tr>\n",
       "      <th>3</th>\n",
       "      <td>sport</td>\n",
       "      <td>yeading face newcastle in fa cup premiership s...</td>\n",
       "      <td>yeading face newcastle fa cup premiership side...</td>\n",
       "    </tr>\n",
       "    <tr>\n",
       "      <th>4</th>\n",
       "      <td>entertainment</td>\n",
       "      <td>ocean s twelve raids box office ocean s twelve...</td>\n",
       "      <td>ocean twelve raid box office ocean twelve crim...</td>\n",
       "    </tr>\n",
       "  </tbody>\n",
       "</table>\n",
       "</div>"
      ],
      "text/plain": [
       "        category                                               text  \\\n",
       "0           tech  tv future in the hands of viewers with home th...   \n",
       "1       business  worldcom boss  left books alone  former worldc...   \n",
       "2          sport  tigers wary of farrell  gamble  leicester say ...   \n",
       "3          sport  yeading face newcastle in fa cup premiership s...   \n",
       "4  entertainment  ocean s twelve raids box office ocean s twelve...   \n",
       "\n",
       "                                          text_clean  \n",
       "0  tv future hand viewer home theatre system plas...  \n",
       "1  worldcom bos left book alone former worldcom b...  \n",
       "2  tiger wary farrell gamble leicester say rushed...  \n",
       "3  yeading face newcastle fa cup premiership side...  \n",
       "4  ocean twelve raid box office ocean twelve crim...  "
      ]
     },
     "execution_count": 7,
     "metadata": {},
     "output_type": "execute_result"
    }
   ],
   "source": [
    "# Let's apply this function to the whole corpus\n",
    "df[\"text_clean\"] = df[\"text\"].apply(lambda x: utils_preprocess_text(x, flg_stemm=False, flg_lemm=True, lst_stopwords=lst_stopwords))\n",
    "\n",
    "# Let's look at the output\n",
    "df.head()"
   ]
  },
  {
   "cell_type": "markdown",
   "id": "ecff5598",
   "metadata": {},
   "source": [
    "The pre-processing makes the text less readable for a human but more readable for a machine!"
   ]
  },
  {
   "cell_type": "markdown",
   "id": "b6b78c06",
   "metadata": {},
   "source": [
    "### Split into Train and Test data"
   ]
  },
  {
   "cell_type": "markdown",
   "id": "8cb5b68a",
   "metadata": {},
   "source": [
    "As a next step, in order to assess the accuracy of the algorithm, we need to split the dataset into a training dataset (to train the model) and a test dataset (to assess the model). This is done with standard tools. We split 70/30, as is standard for relatively small datasets.\n",
    "\n",
    "We rename the input (text) to X and the output (category) to y, to be aligned with standard notations in machine learning.\n",
    "\n",
    "The dataset is relatively small. Therefore it makes sense to create training/test sets that are representative of the dataset. We do it by splitting such that the number of dataset per category is similar. To understand this, think about forecasts for an election: you also need to take a sample that is representative of the population (representative by gender, age, ...)"
   ]
  },
  {
   "cell_type": "code",
   "execution_count": 8,
   "id": "8d0606a6",
   "metadata": {},
   "outputs": [],
   "source": [
    "# Renaming, Input -> X, Output -> y\n",
    "X = df['text_clean']\n",
    "y = df['category']"
   ]
  },
  {
   "cell_type": "code",
   "execution_count": 9,
   "id": "ec916741",
   "metadata": {},
   "outputs": [],
   "source": [
    "# Split into Training and Test sets\n",
    "X_train, X_test, y_train, y_test = train_test_split(X, y, test_size=0.3, random_state=42, stratify=df['category'])"
   ]
  },
  {
   "cell_type": "markdown",
   "id": "a2624f37",
   "metadata": {},
   "source": [
    "Let's look at the split by category: you can see that both the training and test sets are representative of the dataset."
   ]
  },
  {
   "cell_type": "code",
   "execution_count": 10,
   "id": "d97436f9",
   "metadata": {},
   "outputs": [
    {
     "data": {
      "text/plain": [
       "business         0.700000\n",
       "entertainment    0.699482\n",
       "politics         0.700240\n",
       "sport            0.698630\n",
       "tech             0.700748\n",
       "Name: category, dtype: float64"
      ]
     },
     "execution_count": 10,
     "metadata": {},
     "output_type": "execute_result"
    }
   ],
   "source": [
    "y_train.value_counts()/y.value_counts()"
   ]
  },
  {
   "cell_type": "markdown",
   "id": "f6485609",
   "metadata": {},
   "source": [
    "## TF-IDF Model"
   ]
  },
  {
   "cell_type": "markdown",
   "id": "7b7f9d0c",
   "metadata": {},
   "source": [
    "The TF-IDF model (Term Frequency - Inverse Document Frequency) models a text by counting how often a word (called uni-gram), or a combination of two words (two successive words, called bi-gram), or even more (n-gram), appears in the text. This leads to the \"term frequency\". It is then divided by the document frequency, which counts how often a word appears across all entries (i.e. all documents). The last step allows to underweight words which appear more often, and overweight words which appear rarely.\n",
    "\n",
    "The TF-IDF model does not take into account the order of the words (except for two successive words) and belongs therefore to the family of models called \"Bag of Words\". We will see later models which take the order of words into account.\n",
    "\n",
    "To convert text into this format, we \"vectorize\" the text into a vector. When doing this we specify the size of the vocabulary (i.e. the total number of words taken into consideration), and the n-gram range. Then a word (and a word pair in case of bi-grams) is represented by a vector of the size of the vocabulary and has values in only one element, the others being all zero. This is called a one-hot vector.\n",
    "\n",
    "After having initialized the vectorizer, we fit it on the entire training set."
   ]
  },
  {
   "cell_type": "code",
   "execution_count": 11,
   "id": "8a4da929",
   "metadata": {},
   "outputs": [
    {
     "data": {
      "text/plain": [
       "TfidfVectorizer(max_features=15000, ngram_range=(1, 2))"
      ]
     },
     "execution_count": 11,
     "metadata": {},
     "output_type": "execute_result"
    }
   ],
   "source": [
    "corpus = X_train\n",
    "# Initizalize the vectorizer with max nr words and ngrams (1: single words, 2: two words in a row)\n",
    "vectorizer_tfidf = TfidfVectorizer(max_features=15000, ngram_range=(1,2))\n",
    "# Fit the vectorizer to the training data\n",
    "vectorizer_tfidf.fit(corpus)"
   ]
  },
  {
   "cell_type": "markdown",
   "id": "153e738d",
   "metadata": {},
   "source": [
    "Let's build the model. After an entry is converted to a vector using the vectorizer, we apply an algorithm that minimizes the error, i.e. the output predicted by the model y(X) should be as often as possible equal to the label y.\n",
    "\n",
    "We use the logistics regression. Other models could also be applied (like SVM, Naive Bayes, ...).\n",
    "\n",
    "We build the model as a pipeline, consisting of:\n",
    "- vectorization\n",
    "- classifier\n",
    "\n",
    "After initialization of the model, we fit it to the training data."
   ]
  },
  {
   "cell_type": "code",
   "execution_count": 12,
   "id": "fa766c5e",
   "metadata": {},
   "outputs": [],
   "source": [
    "classifier_tfidf = LogisticRegression()\n",
    "model_tfidf = Pipeline([(\"vectorizer\", vectorizer_tfidf), (\"classifier\", classifier_tfidf)])\n",
    "\n",
    "start_time = datetime.now()\n",
    "model_tfidf.fit(X_train, y_train)\n",
    "end_time = datetime.now()\n",
    "\n",
    "training_time_tfidf = (end_time - start_time).total_seconds()"
   ]
  },
  {
   "cell_type": "markdown",
   "id": "aa548279",
   "metadata": {},
   "source": [
    "After the model is trained, we assess the accuracy of the model by comparing the predictions of the model to the labels for both the training and the test data. We compare it for both as the difference between the two accuracies is an important indicator of overfitting (i.e. the model is too strongly fitted to the training data).\n",
    "\n",
    "We also look at the duration of the training."
   ]
  },
  {
   "cell_type": "code",
   "execution_count": 13,
   "id": "0bd28125",
   "metadata": {
    "scrolled": true
   },
   "outputs": [
    {
     "name": "stdout",
     "output_type": "stream",
     "text": [
      "Accuracy Training data: 99.7%\n",
      "Accuracy Test data: 97.9%\n",
      "Training time: 1.8s\n"
     ]
    }
   ],
   "source": [
    "predicted_train_tfidf = model_tfidf.predict(X_train)\n",
    "accuracy_train_tfidf = accuracy_score(y_train, predicted_train_tfidf)\n",
    "print('Accuracy Training data: {:.1%}'.format(accuracy_train_tfidf))\n",
    "\n",
    "predicted_test_tfidf = model_tfidf.predict(X_test)\n",
    "accuracy_test_tfidf = accuracy_score(y_test, predicted_test_tfidf)\n",
    "accuracy_tfidf = accuracy_test_tfidf\n",
    "print('Accuracy Test data: {:.1%}'.format(accuracy_test_tfidf))\n",
    "\n",
    "print('Training time: {:.1f}s'.format(training_time_tfidf))"
   ]
  },
  {
   "cell_type": "markdown",
   "id": "7625c771",
   "metadata": {},
   "source": [
    "We get an amazing accuracy! Both training and test accuracy are similar, so the model is not overfitted. If the model were overfitted, it could be improved by adjusting the regularization, which comes by default with the sci-kit logistic regression model. A typical regularization mechanism is the L2 regularization, which is not covered in this article. And we got it in less than 3 seconds!\n",
    "\n",
    "Before moving to deep learning, we would like to add a few comments on the Logistic Regression model. This model is to classification what linear regression is to regression. It is a linear model. This means that the minimization algorithm consists of minimizing a function which is quadratic in its parameters. The great news is that such a minimization has no local minima, but only a global minimum, which can be reached. And it can be reached using a simple and fast algorithm, by inverting a matrix (of the size of the vocabulary). The negative side is that once this minimum is reached, it is difficult to improve the model (except by adding regularization).\n",
    "\n",
    "The conclusion is that the linear algorithm are converging fast and reach the \"exact\" solution, however once a model is optimized, there is little room for improvement."
   ]
  },
  {
   "cell_type": "markdown",
   "id": "fef2c116",
   "metadata": {},
   "source": [
    "### Model Interpretation"
   ]
  },
  {
   "cell_type": "markdown",
   "id": "14ace51c",
   "metadata": {},
   "source": [
    "An advantage of the linear algorithm is that we can interpret its result easily. Since each parameter of the model corresponds to a word, knowing which parameters count most automatically tells us which words count most.\n",
    "\n",
    "Let's have a closer look at the model's parameters, extracting the ten most important words per category:"
   ]
  },
  {
   "cell_type": "code",
   "execution_count": 14,
   "id": "d997feab",
   "metadata": {},
   "outputs": [
    {
     "name": "stdout",
     "output_type": "stream",
     "text": [
      "Classes of the model:  ['business' 'entertainment' 'politics' 'sport' 'tech']\n",
      "--------------------------------------------------------------------------------\n",
      "Shape of the coefficients of the model (categories x vocabulary size):  (5, 15000)\n",
      "--------------------------------------------------------------------------------\n",
      "business: economy, economic, price, growth, profit, market, bank, firm, share, company, \n",
      "--------------------------------------------------------------------------------\n",
      "entertainment: chart, tv, singer, album, band, star, award, music, show, film, \n",
      "--------------------------------------------------------------------------------\n",
      "politics: mp, blair, tory, lord, minister, election, government, labour, mr, party, \n",
      "--------------------------------------------------------------------------------\n",
      "sport: team, season, england, coach, win, champion, cup, player, club, match, \n",
      "--------------------------------------------------------------------------------\n",
      "tech: online, site, people, phone, mobile, software, user, computer, technology, game, \n",
      "--------------------------------------------------------------------------------\n"
     ]
    }
   ],
   "source": [
    "print('Classes of the model: ',classifier_tfidf.classes_)\n",
    "print(80*'-')\n",
    "print('Shape of the coefficients of the model (categories x vocabulary size): ',classifier_tfidf.coef_.shape)\n",
    "print(80*'-')\n",
    "NN = 10\n",
    "# Get the 10 (here: NN, which you can adjust yourself) ids of the words with highest weights per category\n",
    "top_words = np.argsort(classifier_tfidf.coef_,axis=1)[:,-NN:]\n",
    "\n",
    "# Get the vocabulary of the model (mapping of words to ids):\n",
    "voc = vectorizer_tfidf.vocabulary_\n",
    "# Get the inverse vocabulary to map the ids of the words to the words:\n",
    "inv_voc = {v: k for k, v in voc.items()}\n",
    "\n",
    "# Get for each category (=class) the top ten words\n",
    "for n, w in enumerate(classifier_tfidf.classes_):\n",
    "    t = w + ': '\n",
    "    for i in range(NN):\n",
    "        t += inv_voc[top_words[n,i]]\n",
    "        if i!=NN:\n",
    "            t+=', '\n",
    "    print(t)\n",
    "    print(80*'-')"
   ]
  },
  {
   "cell_type": "markdown",
   "id": "05e58e3b",
   "metadata": {},
   "source": [
    "The model seems to work well!"
   ]
  },
  {
   "cell_type": "markdown",
   "id": "b97b3616",
   "metadata": {},
   "source": [
    "## Deep Learning - RNN"
   ]
  },
  {
   "cell_type": "markdown",
   "id": "6964c874",
   "metadata": {},
   "source": [
    "Words appear in a text in a given order. Recurrent Neural Networks (RNN) are models which take the order of words into account, by processing words sequentially, as they appear in the text. It was observed that RNNs, without any \"internal memory\", have a limitation regarding \"how far they can remember\" the effect of correlations between words. To mitigate this, Long Short Term Memory (LSTM) cells replaced the traditional RNNs in Machine Learning. The LSTM cells have internal variables which act as a memory. It comes at a slightly higher computational costs, which is typically acceptable.\n",
    "\n",
    "In the building of this model, we take advantage of word embeddings, applying Word2Vec. This is a technique that was published in 2013 [1] and had a considerable impact in NLP. It consists of describing a word with a vector of a given size (typically 100 or 300). The vector for a given word is defined by its context within texts (i.e. based on words on its left and its right - N words on the left, N words on the right, N being typically 5). Typically, word embeddings is trained on huge text corpuses. Word2Vec was trained on millions of Google News, while a similar technique called GloVe was trained on Wikipedia. Words with similar meanings (synonyms) are typically close to each other in this space of words. The representation is \"dense\", compared to the one-hot vector representation, which is \"sparse\".\n",
    "\n",
    "The sequential approach of RNN enables to take the order of words into account, but at the same time slows down the training, since a sequential approach by design cannot be handled by parallel computing.\n",
    "\n",
    "Training and test data is defined in a different way than for TF-IDF: we will use the non-processed text. The labelling cannot be handled as text but has to be converted into a one-hot vector, because of technical reasons (to the best of my knowledge, this is simply not implemented in TensorFlow). Then we split into training and test data, same as we did for TF-IDF."
   ]
  },
  {
   "cell_type": "code",
   "execution_count": 15,
   "id": "4ddd9518",
   "metadata": {},
   "outputs": [
    {
     "name": "stdout",
     "output_type": "stream",
     "text": [
      "Coding of labels into a one-hot vector: entertainment is  [0 1 0 0 0]\n"
     ]
    }
   ],
   "source": [
    "# Renaming, Input -> X, Output -> y\n",
    "X_tf = df['text']\n",
    "y_tf_class = df['category']\n",
    "\n",
    "# Convert labels into a one-hot vector of size 5 (the number of distinct labels)\n",
    "lab = LabelBinarizer()\n",
    "lab.fit(y_tf_class)\n",
    "y_tf = lab.transform(y_tf_class)\n",
    "\n",
    "# Example (you can modify n)\n",
    "n=100\n",
    "print('Coding of labels into a one-hot vector: ' + y_tf_class[n] + ' is ', y_tf[n])\n",
    "\n",
    "# Split into training and test data\n",
    "X_tf_train, X_tf_test, y_tf_train, y_tf_test = train_test_split(X_tf, y_tf, test_size=0.3, random_state=42, stratify=df['category'])"
   ]
  },
  {
   "cell_type": "markdown",
   "id": "7398aa1c",
   "metadata": {},
   "source": [
    "The text, a sequence of words, needs to be converted to a sequence of numbers. We tokenize the text using TensorFlow's tokenizer.\n",
    "\n",
    "After initializing the tokenizer, we fit it on the training data."
   ]
  },
  {
   "cell_type": "code",
   "execution_count": 16,
   "id": "7dc81f3e",
   "metadata": {},
   "outputs": [],
   "source": [
    "corpus = X_tf_train\n",
    "max_words = 15000\n",
    "tokenizer = kprocessing.text.Tokenizer(lower=True, split=' ', num_words=max_words, oov_token=\"<pad>\", filters='!\"#$%&()*+,-./:;<=>?@[\\\\]^_`{|}~\\t\\n')\n",
    "tokenizer.fit_on_texts(corpus)\n",
    "voc = tokenizer.word_index\n",
    "reverse_voc = dict([(value, key) for (key, value) in voc.items()])"
   ]
  },
  {
   "cell_type": "markdown",
   "id": "79b94de1",
   "metadata": {},
   "source": [
    "Let's use the tokenizer to convert the training data (a sequence of words) into a sequence of numbers representing the words. We then pad sequences using TensorFlow's pad_sequences. We define a limit to the length of the sequences. Any text with more words than allowed will be cut.\n",
    "\n",
    "We look at the shape of the training data after processing it, and illustrate it with a specific example."
   ]
  },
  {
   "cell_type": "code",
   "execution_count": 17,
   "id": "4fc032ef",
   "metadata": {},
   "outputs": [
    {
     "name": "stdout",
     "output_type": "stream",
     "text": [
      "Shape:  (1557, 200)\n",
      "----------------------------------------------------------------------------------------------------\n",
      "Example:  [    4   317  1408  1309   651     3  4599   148    62   229    28  3974\n",
      "   472     7   540     6  2012  1398   471 10401     6   574     4   198\n",
      "     2   530     8   320    15  2160   265    56   409  1624     5     2\n",
      "  4600  4601  2717     2  4881    14     2   198    15  1556    24     6\n",
      "  1093   302     7     2    49  1575    34  8961     6   381    41     8\n",
      "  1408   218    13     2  4881   304    14   477     4     2  4881     9\n",
      "   860   581   112    52    10  1324  5208   823    13   416     2   457\n",
      "     4   446    10  3619     5  2248     1     7     2   242  2161     2\n",
      "  4881     9  1656     4   317  1408  1309    10  3793    28  1736  5598\n",
      "     4  7138  1459    22    40    56  2362  1971   230  3487    28  6032\n",
      "     3  6033     3  1625     5    20    73    39  1398   471   163   890\n",
      "   238   409   180   320     9  1092     3   193     7    22  4599   114\n",
      "     2  4881  1408  1656     9   544  3354   860     2  1838  1656  5599\n",
      "     3  3222   261     7   320    28  3974   148     7   540   112    43\n",
      "   416   695  1656 10402     2   324     3  1180     4    44 12510    45\n",
      "  5599     3  3975   445    28  5202   445     2  4881     9    49  1575\n",
      "  1656   651     3  6034   176    28  6035   199]\n"
     ]
    }
   ],
   "source": [
    "max_len = 200\n",
    "\n",
    "sequences = tokenizer.texts_to_sequences(X_tf_train)\n",
    "X_tf_train_seq = kprocessing.sequence.pad_sequences(sequences, maxlen=max_len)\n",
    "\n",
    "# Apply the same to test data\n",
    "X_tf_test_seq = kprocessing.sequence.pad_sequences(tokenizer.texts_to_sequences(X_tf_test), maxlen=max_len)\n",
    "\n",
    "n=10 # You can adjust n\n",
    "print('Shape: ',X_tf_train_seq.shape)\n",
    "print(100*'-')\n",
    "print('Example: ',X_tf_train_seq[n,:])"
   ]
  },
  {
   "cell_type": "markdown",
   "id": "60d18294",
   "metadata": {},
   "source": [
    "Each word is now represented by a number (an index). We want to represent it by a vector which represents it best, leveraging on pre-learned information.\n",
    "\n",
    "This is done using Word2Vec, which we have described above. We will not train ourselves this word representation but download an existing representation, from the library gensim. This may take several minutes. Once this word representation is available, we map it to our tokenization."
   ]
  },
  {
   "cell_type": "code",
   "execution_count": 18,
   "id": "752a16b3",
   "metadata": {},
   "outputs": [
    {
     "data": {
      "text/plain": [
       "(300,)"
      ]
     },
     "execution_count": 18,
     "metadata": {},
     "output_type": "execute_result"
    }
   ],
   "source": [
    "# This may take several minutes\n",
    "w2v = api.load(\"word2vec-google-news-300\")\n",
    "# Example of a word representation:\n",
    "w2v['hello'].shape"
   ]
  },
  {
   "cell_type": "code",
   "execution_count": 19,
   "id": "22c5cab4",
   "metadata": {},
   "outputs": [],
   "source": [
    "# Build weights of the embbeddings matrix using w2v\n",
    "emb_matrix=np.zeros((max_words+1, 300))\n",
    "for i in range(max_words):\n",
    "    w = reverse_voc[i+1]\n",
    "    if w in w2v:\n",
    "        emb_matrix[i+1,:] = w2v[w]\n",
    "emb_size = emb_matrix.shape[1]"
   ]
  },
  {
   "cell_type": "markdown",
   "id": "6e89d029",
   "metadata": {},
   "source": [
    "After we have a word representation, we build the model. We use:\n",
    "- Input layer: to tell the model which input format to expect, so that the model knows what to expect\n",
    "- Embedding: we transform the input (a sequence of word indices) into a sequence of embedded words (a sequence of vectors of size 300), using the downloaded Word2Vec matrix\n",
    "- LSTM layer: we use an LSTM layer that goes in both directions (forward and backward), to have maximal information available. The output of this layer (that is pushed to the next layer) is the output of the last word (on the right for the forward LSTM, on the left for the backward LSTM). We set the size of the output vector to 15 (which is somewhat arbitrary). Combining both outputs (forward and backward), we get a vector of size 30\n",
    "- Dropout layer: for regularization\n",
    "- Dense layer (with relu activation function, with 64 neurons): to solve the specific problem of classification\n",
    "- Dense layer (with softmax activation function): for a probability distribution for each label\n",
    "\n",
    "We run the model using Adam optimizer, where we have played with the hyper-parameters. Based on the recommendations of the first article on dropout (2014) [2|, we increase the learning rate compared to TensorFlow's default values."
   ]
  },
  {
   "cell_type": "code",
   "execution_count": 20,
   "id": "e0578f09",
   "metadata": {},
   "outputs": [],
   "source": [
    "input_ = layers.Input(shape = X_tf_train_seq[0,:].shape,name='input')\n",
    "# Embedding layer (voc size plus un (\"UNK\", word with index 0)), using the pre-trained emb_matrix obtained from Word2Vec\n",
    "x = layers.Embedding(max_words+1,emb_size,weights=[emb_matrix],trainable=False, name='embedding')(input_)\n",
    "x = layers.Bidirectional(layers.LSTM(15,dropout=0.2),name='bidirectional-lstm')(x) # LSTM layer\n",
    "x = layers.Dropout(0.2, name='dropout')(x)\n",
    "x = layers.Dense(64, activation='relu', name='dense')(x)\n",
    "output = layers.Dense(nr_categories,activation='softmax', name='classification')(x)\n",
    "\n",
    "model = models.Model(input_, output)\n",
    "\n",
    "opt = optimizers.Adam(learning_rate=0.01, beta_1=0.9)\n",
    "model.compile(optimizer=opt,loss='categorical_crossentropy', metrics=['accuracy'])"
   ]
  },
  {
   "cell_type": "markdown",
   "id": "161b1f6d",
   "metadata": {},
   "source": [
    "Let's look at the model:"
   ]
  },
  {
   "cell_type": "code",
   "execution_count": 21,
   "id": "4b04f472",
   "metadata": {},
   "outputs": [
    {
     "name": "stdout",
     "output_type": "stream",
     "text": [
      "Model: \"model\"\n",
      "_________________________________________________________________\n",
      "Layer (type)                 Output Shape              Param #   \n",
      "=================================================================\n",
      "input (InputLayer)           [(None, 200)]             0         \n",
      "_________________________________________________________________\n",
      "embedding (Embedding)        (None, 200, 300)          4500300   \n",
      "_________________________________________________________________\n",
      "bidirectional-lstm (Bidirect (None, 30)                37920     \n",
      "_________________________________________________________________\n",
      "dropout (Dropout)            (None, 30)                0         \n",
      "_________________________________________________________________\n",
      "dense (Dense)                (None, 64)                1984      \n",
      "_________________________________________________________________\n",
      "classification (Dense)       (None, 5)                 325       \n",
      "=================================================================\n",
      "Total params: 4,540,529\n",
      "Trainable params: 40,229\n",
      "Non-trainable params: 4,500,300\n",
      "_________________________________________________________________\n"
     ]
    }
   ],
   "source": [
    "model.summary()"
   ]
  },
  {
   "cell_type": "markdown",
   "id": "709960e9",
   "metadata": {},
   "source": [
    "Now it is time to train the model! We train it over 10 epochs. When training the model, we get from the history object precious information, that we display after the training."
   ]
  },
  {
   "cell_type": "code",
   "execution_count": 22,
   "id": "655fa797",
   "metadata": {},
   "outputs": [
    {
     "name": "stdout",
     "output_type": "stream",
     "text": [
      "Epoch 1/10\n",
      "25/25 [==============================] - 7s 153ms/step - loss: 1.2407 - accuracy: 0.4888 - val_loss: 0.6917 - val_accuracy: 0.7350\n",
      "Epoch 2/10\n",
      "25/25 [==============================] - 3s 117ms/step - loss: 0.7127 - accuracy: 0.7328 - val_loss: 0.5307 - val_accuracy: 0.8234\n",
      "Epoch 3/10\n",
      "25/25 [==============================] - 3s 118ms/step - loss: 0.4145 - accuracy: 0.8664 - val_loss: 0.4044 - val_accuracy: 0.8653\n",
      "Epoch 4/10\n",
      "25/25 [==============================] - 3s 118ms/step - loss: 0.3530 - accuracy: 0.8773 - val_loss: 0.2816 - val_accuracy: 0.9117\n",
      "Epoch 5/10\n",
      "25/25 [==============================] - 3s 117ms/step - loss: 0.2113 - accuracy: 0.9300 - val_loss: 0.3067 - val_accuracy: 0.9162\n",
      "Epoch 6/10\n",
      "25/25 [==============================] - 3s 118ms/step - loss: 0.1576 - accuracy: 0.9403 - val_loss: 0.2761 - val_accuracy: 0.9251\n",
      "Epoch 7/10\n",
      "25/25 [==============================] - 3s 122ms/step - loss: 0.1579 - accuracy: 0.9505 - val_loss: 0.2390 - val_accuracy: 0.9296\n",
      "Epoch 8/10\n",
      "25/25 [==============================] - 3s 119ms/step - loss: 0.0708 - accuracy: 0.9743 - val_loss: 0.2223 - val_accuracy: 0.9476\n",
      "Epoch 9/10\n",
      "25/25 [==============================] - 3s 119ms/step - loss: 0.0645 - accuracy: 0.9794 - val_loss: 0.2353 - val_accuracy: 0.9386\n",
      "Epoch 10/10\n",
      "25/25 [==============================] - 3s 119ms/step - loss: 0.0335 - accuracy: 0.9891 - val_loss: 0.2289 - val_accuracy: 0.9461\n"
     ]
    }
   ],
   "source": [
    "start_time = datetime.now()\n",
    "history = model.fit(X_tf_train_seq, y_tf_train, batch_size=64, shuffle=True, epochs=10, validation_data=(X_tf_test_seq, y_tf_test))\n",
    "end_time = datetime.now()\n",
    "\n",
    "training_time_rnn = (end_time - start_time).total_seconds()"
   ]
  },
  {
   "cell_type": "code",
   "execution_count": 23,
   "id": "de665c18",
   "metadata": {},
   "outputs": [
    {
     "data": {
      "text/plain": [
       "<matplotlib.legend.Legend at 0x7fe9765cbc90>"
      ]
     },
     "execution_count": 23,
     "metadata": {},
     "output_type": "execute_result"
    },
    {
     "data": {
      "image/png": "[encoded data removed]",
      "text/plain": [
       "<Figure size 1080x360 with 2 Axes>"
      ]
     },
     "metadata": {
      "needs_background": "light"
     },
     "output_type": "display_data"
    }
   ],
   "source": [
    "fig, ax = plt.subplots(nrows=1, ncols=2, figsize=(15, 5))\n",
    "ax[0].set(title='Loss')\n",
    "ax[0].plot(history.history['loss'], label='Training')\n",
    "ax[0].plot(history.history['val_loss'], label='Validation')\n",
    "ax[0].legend(loc=\"upper right\")\n",
    "\n",
    "ax[1].set(title='Accuracy')\n",
    "ax[1].plot(history.history['accuracy'], label='Training')\n",
    "ax[1].plot(history.history['val_accuracy'], label='Validation')\n",
    "ax[1].legend(loc=\"lower right\")"
   ]
  },
  {
   "cell_type": "code",
   "execution_count": 24,
   "id": "dae33f05",
   "metadata": {},
   "outputs": [
    {
     "name": "stdout",
     "output_type": "stream",
     "text": [
      "Accuracy Training data: 98.9%\n",
      "Accuracy Test data: 94.6%\n",
      "Training time: 33.2s\n"
     ]
    }
   ],
   "source": [
    "accuracy_rnn = history.history['val_accuracy'][-1]\n",
    "print('Accuracy Training data: {:.1%}'.format(history.history['accuracy'][-1]))\n",
    "print('Accuracy Test data: {:.1%}'.format(history.history['val_accuracy'][-1]))\n",
    "print('Training time: {:.1f}s'.format(training_time_rnn))"
   ]
  },
  {
   "cell_type": "markdown",
   "id": "225b4e06",
   "metadata": {},
   "source": [
    "For this (simple) problem with little training data, we observe that this sophisticated model gets a lower accuracy than the TF-IDF model, and needs around 10 times more time to be trained!\n",
    "\n",
    "This might be disappointing. My conclusion is:  a simple problem does not necessarily needs a sophisticated solution."
   ]
  },
  {
   "cell_type": "markdown",
   "id": "75e65b49",
   "metadata": {},
   "source": [
    "The Recurrent Neural Network model with the use of Word2Vec was improved from the Linear TF-IDF model by taking the order of words into consideration, and by using a pre-learned representation of words. But the representation of words we have does not consider the context in which the word is applied. For example, in the following sentences: \"I took a loan at the bank.\", \"I am sitting on a bank.\", the word \"bank\" has a completely different meaning. It is reasonable to think that teh context matters. This is what the model BERT is solving."
   ]
  },
  {
   "cell_type": "markdown",
   "id": "c1b6b673",
   "metadata": {},
   "source": [
    "## Deep Learning - With Bert Language Model"
   ]
  },
  {
   "cell_type": "markdown",
   "id": "918347d9",
   "metadata": {},
   "source": [
    "Going one step further, let's introduce a model where not only each single words are pre-learned, but entire sentences. This is achieved with the BERT language model, which was published in 2019 by Devlin et al [3], at Google. This language model allows the encoding of words depending on their context, by using a huge corpus (Wikipedia and books) for training. Training is done as self-supervised: it is done by masking randomly words from existing sentences. The training of the model consists of completing the missing words. The architecture of BERT consists of multiple layers of transformers.\n",
    "The BERT model has 110m parameters; the large Bert model has 340m parameters. In practice, we will use a smaller model, Distil Bert, which has 66m parameters.\n",
    "Devlin at al. made the implementation of the BERT model available (https://github.com/google-research/bert). But we will use the Python library transformers, which was made available by company HuggingFace (together with many other models)."
   ]
  },
  {
   "cell_type": "markdown",
   "id": "b9a55ff2",
   "metadata": {},
   "source": [
    "Since the BERT model is pre-trained, it comes with a tokenizer. This is why we will use the non-processed training data, and will tokenize the sentences using the Distil Bert tokenizer. As for the RNN model, we will have to map the labels to a one-hot vector.\n",
    "\n",
    "For practical reasons, we will first convert the training data into the desired format, and later we will split into training/test data.\n",
    "\n",
    "The Distil BERT model requires a sequence of word indices and an attention mask (a sequence of attention values). This is also what the Distil Bert tokenizer generates. But for our simple use case, the attention mask will be constant. This is why, when building the data, we will ignore the attention mask and only consider the word indices (which are the \"input_ids\" of the Distil Bert tokenizer). For performance reasons, we convert the list of training data into an array."
   ]
  },
  {
   "cell_type": "code",
   "execution_count": 25,
   "id": "6cd22dd5",
   "metadata": {},
   "outputs": [
    {
     "name": "stdout",
     "output_type": "stream",
     "text": [
      "Coding of labels into a one-hot vector: entertainment is  [0 1 0 0 0]\n"
     ]
    }
   ],
   "source": [
    "# Renaming, Input -> X, Output -> y\n",
    "X_bert = df['text']\n",
    "y_bert_class = df['category']\n",
    "\n",
    "# Convert labels into a one-hot vector of size 5 (the number of distinct labels)\n",
    "lab = LabelBinarizer()\n",
    "lab.fit(y_bert_class)\n",
    "y_bert = lab.transform(y_bert_class)\n",
    "\n",
    "# Example (you can modify n)\n",
    "n=100\n",
    "print('Coding of labels into a one-hot vector: ' + y_bert_class[n] + ' is ', y_bert[n])"
   ]
  },
  {
   "cell_type": "code",
   "execution_count": 26,
   "id": "bd56dfa4",
   "metadata": {},
   "outputs": [],
   "source": [
    "# distil-bert tokenizer\n",
    "tokenizer_bert = transformers.DistilBertTokenizer.from_pretrained('distilbert-base-uncased')\n",
    "X_bert = [tokenizer_bert(text, padding='max_length', max_length = 512, truncation=True)['input_ids'] for text in X_bert]\n",
    "X_bert = np.array(X_bert, dtype='int32')"
   ]
  },
  {
   "cell_type": "markdown",
   "id": "6e2f085b",
   "metadata": {},
   "source": [
    "Let's split the data into a training and a test set, and have a look at the format of the data."
   ]
  },
  {
   "cell_type": "code",
   "execution_count": 27,
   "id": "11d6992e",
   "metadata": {},
   "outputs": [
    {
     "name": "stdout",
     "output_type": "stream",
     "text": [
      "Shape of training data:  (1557, 512)\n"
     ]
    }
   ],
   "source": [
    "# Train/test split\n",
    "X_bert_train, X_bert_test, y_bert_train, y_bert_test = train_test_split(X_bert, y_bert, test_size=0.3, random_state=42, stratify=df['category'])\n",
    "print('Shape of training data: ',X_bert_train.shape)"
   ]
  },
  {
   "cell_type": "markdown",
   "id": "5f4d9e23",
   "metadata": {},
   "source": [
    "Let's define the Distil Bert model, using a pre-trained model from the transformers library. This model will be integrated as a layer in the classification model. We will not train the parameters of this layer, which we do by setting it as trainable=False."
   ]
  },
  {
   "cell_type": "code",
   "execution_count": 28,
   "id": "5a6df31c",
   "metadata": {},
   "outputs": [
    {
     "name": "stderr",
     "output_type": "stream",
     "text": [
      "Some layers from the model checkpoint at distilbert-base-uncased were not used when initializing TFDistilBertModel: ['vocab_transform', 'activation_13', 'vocab_projector', 'vocab_layer_norm']\n",
      "- This IS expected if you are initializing TFDistilBertModel from the checkpoint of a model trained on another task or with another architecture (e.g. initializing a BertForSequenceClassification model from a BertForPreTraining model).\n",
      "- This IS NOT expected if you are initializing TFDistilBertModel from the checkpoint of a model that you expect to be exactly identical (initializing a BertForSequenceClassification model from a BertForSequenceClassification model).\n",
      "All the layers of TFDistilBertModel were initialized from the model checkpoint at distilbert-base-uncased.\n",
      "If your task is similar to the task the model of the checkpoint was trained on, you can already use TFDistilBertModel for predictions without further training.\n"
     ]
    }
   ],
   "source": [
    "config = transformers.DistilBertConfig(dropout=0.2, attention_dropout=0.2)\n",
    "dbert = transformers.TFDistilBertModel.from_pretrained('distilbert-base-uncased', config=config, trainable=False)"
   ]
  },
  {
   "cell_type": "markdown",
   "id": "5406c353",
   "metadata": {},
   "source": [
    "You might get a warning message. Don't worry about it. In the context where we apply the model, this message can be ignored."
   ]
  },
  {
   "cell_type": "markdown",
   "id": "267d3636",
   "metadata": {},
   "source": [
    "Let's have a closer look at the output of this model. For this, let's take a sample from our training dataset (we take a sample of size five) and look at the output through the model."
   ]
  },
  {
   "cell_type": "code",
   "execution_count": 29,
   "id": "a3ebc3f6",
   "metadata": {},
   "outputs": [
    {
     "name": "stdout",
     "output_type": "stream",
     "text": [
      "Object type:  <class 'transformers.modeling_tf_outputs.TFBaseModelOutput'>\n",
      "Output format (shape):  (5, 512, 768)\n",
      "Output used as input for the classifier (shape):  (5, 768)\n"
     ]
    }
   ],
   "source": [
    "# Let's create a sampe of size 5 from the training data\n",
    "sample = X_bert_train[0:5]\n",
    "print('Object type: ', type(dbert(sample)))\n",
    "print('Output format (shape): ',dbert(sample)[0].shape)\n",
    "print('Output used as input for the classifier (shape): ', dbert(sample)[0][:,0,:].shape)"
   ]
  },
  {
   "cell_type": "markdown",
   "id": "34b1cebf",
   "metadata": {},
   "source": [
    "The output is a specific Python object. Among other information, we get a Tensor of size (N, M, S), where N is the size of the dataset (in our case five examples), M is the length of the sample (number of words in a sentence), and S is the size of the output vector (the output of the model). Typically, as mentioned by Devlin et al., for a classification task, we use the first output vector of a sentence as input for the rest of the classification model, since this first vector \"encodes\" information on the overall sentence. Alternatively a pooling of all output vectors could also be used as input for the rest of the classifier."
   ]
  },
  {
   "cell_type": "markdown",
   "id": "5bad90e2",
   "metadata": {},
   "source": [
    "It is now time to build the classification model! It consists of:\n",
    "- Input layer: to tell the model which input format to expect, so that the model knows what to expect\n",
    "- Distil Bert model: to encode the input data into a new sequence of vectors (that is the output of BERT). Only the first vector of this sequence will be used as an input for the rest of the classifier\n",
    "- Dropout layer: for regularization\n",
    "- Dense layer (with relu activation function, with 64 neurons): to solve the specific problem of classification\n",
    "- Dense layer (with softmax activation function): for a probability distribution for each label"
   ]
  },
  {
   "cell_type": "code",
   "execution_count": 30,
   "id": "32d36f89",
   "metadata": {},
   "outputs": [
    {
     "name": "stdout",
     "output_type": "stream",
     "text": [
      "WARNING:tensorflow:From /Users/cfeldges/opt/anaconda3/lib/python3.7/site-packages/tensorflow/python/ops/array_ops.py:5049: calling gather (from tensorflow.python.ops.array_ops) with validate_indices is deprecated and will be removed in a future version.\n",
      "Instructions for updating:\n",
      "The `validate_indices` argument has no effect. Indices are always validated on CPU and never validated on GPU.\n"
     ]
    }
   ],
   "source": [
    "input_ids_in = layers.Input(shape=(512,), name='input_token', dtype='int32')\n",
    "\n",
    "x = dbert(input_ids=input_ids_in)[0][:,0,:]\n",
    "x = layers.Dropout(0.2, name='dropout')(x)\n",
    "x = layers.Dense(64, activation='relu', name='dense')(x)\n",
    "x = layers.Dense(5, activation='softmax', name='classification')(x)\n",
    "\n",
    "dmodel = models.Model(inputs=input_ids_in, outputs = x)\n",
    "\n",
    "dmodel.compile(optimizer='adam',loss='categorical_crossentropy', metrics=['accuracy'])"
   ]
  },
  {
   "cell_type": "code",
   "execution_count": 31,
   "id": "64d50030",
   "metadata": {},
   "outputs": [
    {
     "name": "stdout",
     "output_type": "stream",
     "text": [
      "Model: \"model_1\"\n",
      "_________________________________________________________________\n",
      "Layer (type)                 Output Shape              Param #   \n",
      "=================================================================\n",
      "input_token (InputLayer)     [(None, 512)]             0         \n",
      "_________________________________________________________________\n",
      "tf_distil_bert_model (TFDist TFBaseModelOutput(last_hi 66362880  \n",
      "_________________________________________________________________\n",
      "tf.__operators__.getitem (Sl (None, 768)               0         \n",
      "_________________________________________________________________\n",
      "dropout (Dropout)            (None, 768)               0         \n",
      "_________________________________________________________________\n",
      "dense (Dense)                (None, 64)                49216     \n",
      "_________________________________________________________________\n",
      "classification (Dense)       (None, 5)                 325       \n",
      "=================================================================\n",
      "Total params: 66,412,421\n",
      "Trainable params: 49,541\n",
      "Non-trainable params: 66,362,880\n",
      "_________________________________________________________________\n"
     ]
    }
   ],
   "source": [
    "dmodel.summary()"
   ]
  },
  {
   "cell_type": "code",
   "execution_count": 32,
   "id": "2d677a7b",
   "metadata": {
    "scrolled": true
   },
   "outputs": [
    {
     "name": "stdout",
     "output_type": "stream",
     "text": [
      "Epoch 1/5\n",
      "49/49 [==============================] - 763s 15s/step - loss: 0.9259 - accuracy: 0.6969 - val_loss: 0.3141 - val_accuracy: 0.9356\n",
      "Epoch 2/5\n",
      "49/49 [==============================] - 792s 16s/step - loss: 0.2860 - accuracy: 0.9364 - val_loss: 0.1848 - val_accuracy: 0.9476\n",
      "Epoch 3/5\n",
      "49/49 [==============================] - 834s 17s/step - loss: 0.1997 - accuracy: 0.9493 - val_loss: 0.1416 - val_accuracy: 0.9536\n",
      "Epoch 4/5\n",
      "49/49 [==============================] - 836s 17s/step - loss: 0.1613 - accuracy: 0.9576 - val_loss: 0.1328 - val_accuracy: 0.9506\n",
      "Epoch 5/5\n",
      "49/49 [==============================] - 833s 17s/step - loss: 0.1333 - accuracy: 0.9672 - val_loss: 0.1029 - val_accuracy: 0.9656\n"
     ]
    }
   ],
   "source": [
    "# Train the model\n",
    "start_time = datetime.now()\n",
    "history = dmodel.fit(X_bert_train, y_bert_train, batch_size=32, shuffle=True, epochs=5, validation_data=(X_bert_test, y_bert_test))\n",
    "end_time = datetime.now()\n",
    "\n",
    "training_time_bert = (end_time - start_time).total_seconds()"
   ]
  },
  {
   "cell_type": "code",
   "execution_count": 33,
   "id": "646540dd",
   "metadata": {},
   "outputs": [
    {
     "data": {
      "text/plain": [
       "<matplotlib.legend.Legend at 0x7fe8e3baf210>"
      ]
     },
     "execution_count": 33,
     "metadata": {},
     "output_type": "execute_result"
    },
    {
     "data": {
      "image/png": "[encoded data removed]",
      "text/plain": [
       "<Figure size 1080x360 with 2 Axes>"
      ]
     },
     "metadata": {
      "needs_background": "light"
     },
     "output_type": "display_data"
    }
   ],
   "source": [
    "fig, ax = plt.subplots(nrows=1, ncols=2, figsize=(15, 5))\n",
    "ax[0].set(title='Loss')\n",
    "ax[0].plot(history.history['loss'], label='Training')\n",
    "ax[0].plot(history.history['val_loss'], label='Validation')\n",
    "ax[0].legend(loc=\"upper right\")\n",
    "\n",
    "ax[1].set(title='Accuracy')\n",
    "ax[1].plot(history.history['accuracy'], label='Training')\n",
    "ax[1].plot(history.history['val_accuracy'], label='Validation')\n",
    "ax[1].legend(loc=\"lower right\")"
   ]
  },
  {
   "cell_type": "code",
   "execution_count": 34,
   "id": "0fefc359",
   "metadata": {},
   "outputs": [
    {
     "name": "stdout",
     "output_type": "stream",
     "text": [
      "Accuracy Training data: 96.7%\n",
      "Accuracy Test data: 96.6%\n",
      "Training time: 4058.1s (or 67.6 minutes)\n"
     ]
    }
   ],
   "source": [
    "accuracy_bert = history.history['val_accuracy'][-1]\n",
    "print('Accuracy Training data: {:.1%}'.format(history.history['accuracy'][-1]))\n",
    "print('Accuracy Test data: {:.1%}'.format(history.history['val_accuracy'][-1]))\n",
    "print('Training time: {:.1f}s (or {:.1f} minutes)'.format(training_time_bert, training_time_bert/60))"
   ]
  },
  {
   "cell_type": "markdown",
   "id": "b1cf8254",
   "metadata": {},
   "source": [
    "For this (simple) problem with little training data, we observe that this sophisticated model gets a lower accuracy than the TF-IDF model, and needs more than 2'000 times more time to be trained!\n",
    "\n",
    "This might be disappointing. Same as for the RNN model, my conclusion is: a simple problem does not necessarily needs a sophisticated solution."
   ]
  },
  {
   "cell_type": "markdown",
   "id": "43b27d59",
   "metadata": {},
   "source": [
    "## Conclusion"
   ]
  },
  {
   "cell_type": "markdown",
   "id": "38f3cba5",
   "metadata": {},
   "source": [
    "We have gone through three Machine Learning models to classify news according to their category. We have increased the complexity of the models, starting with a \"classical\" machine learning model, a linear model using TF-IDF. Then we have used a Recurrent Neutral Network model, using word embeddings to make use of pre-learned information. Finally we have used a BERT model, which is a pre-trained model, having not only single words pre-trained but also entire sentences.\n",
    "The models used are:\n",
    "- Linear model TF-IDF\n",
    "- Bi-directional LSTM model with word2vec word embedding\n",
    "- Distil BERT\n",
    "\n",
    "We have measured these models using two metrics:\n",
    "- Acurracy\n",
    "- Training time\n",
    "Let's look at the results:"
   ]
  },
  {
   "cell_type": "code",
   "execution_count": 79,
   "id": "bae94c64",
   "metadata": {},
   "outputs": [
    {
     "data": {
      "text/html": [
       "<div>\n",
       "<style scoped>\n",
       "    .dataframe tbody tr th:only-of-type {\n",
       "        vertical-align: middle;\n",
       "    }\n",
       "\n",
       "    .dataframe tbody tr th {\n",
       "        vertical-align: top;\n",
       "    }\n",
       "\n",
       "    .dataframe thead th {\n",
       "        text-align: right;\n",
       "    }\n",
       "</style>\n",
       "<table border=\"1\" class=\"dataframe\">\n",
       "  <thead>\n",
       "    <tr style=\"text-align: right;\">\n",
       "      <th></th>\n",
       "      <th>Method</th>\n",
       "      <th>Accuracy</th>\n",
       "      <th>Training Time [s]</th>\n",
       "      <th>Training Time [x]</th>\n",
       "    </tr>\n",
       "  </thead>\n",
       "  <tbody>\n",
       "    <tr>\n",
       "      <th>0</th>\n",
       "      <td>TF-IDF</td>\n",
       "      <td>97.9%</td>\n",
       "      <td>1.8</td>\n",
       "      <td>1.0x</td>\n",
       "    </tr>\n",
       "    <tr>\n",
       "      <th>1</th>\n",
       "      <td>RNN</td>\n",
       "      <td>94.6%</td>\n",
       "      <td>33.2</td>\n",
       "      <td>18.4x</td>\n",
       "    </tr>\n",
       "    <tr>\n",
       "      <th>2</th>\n",
       "      <td>BERT</td>\n",
       "      <td>96.6%</td>\n",
       "      <td>4058.1</td>\n",
       "      <td>2254.5x</td>\n",
       "    </tr>\n",
       "  </tbody>\n",
       "</table>\n",
       "</div>"
      ],
      "text/plain": [
       "   Method Accuracy  Training Time [s] Training Time [x]\n",
       "0  TF-IDF    97.9%                1.8              1.0x\n",
       "1     RNN    94.6%               33.2             18.4x\n",
       "2    BERT    96.6%             4058.1           2254.5x"
      ]
     },
     "metadata": {},
     "output_type": "display_data"
    }
   ],
   "source": [
    "method = ['TF-IDF', 'RNN', 'BERT']\n",
    "accuracy = [accuracy_tfidf, accuracy_rnn, accuracy_bert]\n",
    "accuracy = [str(round(acc*100, 1))+'%' for acc in accuracy]\n",
    "training_time = [round(training_time_tfidf,1), round(training_time_rnn,1), round(training_time_bert,1)]\n",
    "training_time_rounded = [round(tt,1) for tt in training_time]\n",
    "training_time = np.array(training_time)\n",
    "training_time_x = list(training_time /min(training_time))\n",
    "training_time_x = [str(round(ttx,1))+'x' for ttx in training_time_x]\n",
    "\n",
    "dict = {'Method' : method,\n",
    "        'Accuracy' : accuracy,\n",
    "        'Training Time [s]' : training_time_rounded,\n",
    "        'Training Time [x]' : training_time_x}\n",
    "df = pd.DataFrame(dict)\n",
    "display(df)"
   ]
  },
  {
   "cell_type": "markdown",
   "id": "e2b7be39",
   "metadata": {},
   "source": [
    "This classification is a simple problem. A simple model like the linear TF-IDF model already provides a very good accuracy. Using more complex models does not improve accuracy, but costs much more time: the RNN model needs 20 times more time than the TF-IDF. The BERT model needs even more than 1'000 times more time than the TF-IDF!\n",
    "\n",
    "My conclusion is: it is not always necessary to use complex models, if simple models already solve the issue!\n",
    "\n",
    "As a side note: the Linear TF-IDF approach can be very frustrating, if we do not get a satisfying accuracy from the beginning. In such cases it can be very hard to improve the model. It is very different with RNN and BERT models. Such models can be easily improved: one can either develop a more sophisticated architecture of the model, or run the model on more epochs, ... For the BERT model, it is fascinating to see that at each epoch, the accuracy improves. One might feel that the model reads the text better and better."
   ]
  },
  {
   "cell_type": "markdown",
   "id": "e51dc2c5",
   "metadata": {},
   "source": [
    "## References"
   ]
  },
  {
   "cell_type": "markdown",
   "id": "1e3b37e8",
   "metadata": {},
   "source": [
    "[1] Mikolov, Tomas, et al. (2013). \"Efficient Estimation of Word Representations in Vector Space\"\n",
    "\n",
    "[2] Srivastava, Hinton et al. (2014). \"Dropout: A Simple Way to Prevent Neural Networks from Overfitting\"\n",
    "\n",
    "[3] Devlin et al. (2019). \"BERT: Pre-training of Deep Bidirectional Transformers for Language Understanding\""
   ]
  }
 ],
 "metadata": {
  "kernelspec": {
   "display_name": "Python 3",
   "language": "python",
   "name": "python3"
  },
  "language_info": {
   "codemirror_mode": {
    "name": "ipython",
    "version": 3
   },
   "file_extension": ".py",
   "mimetype": "text/x-python",
   "name": "python",
   "nbconvert_exporter": "python",
   "pygments_lexer": "ipython3",
   "version": "3.7.6"
  }
 },
 "nbformat": 4,
 "nbformat_minor": 5
}
